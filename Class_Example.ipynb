{
 "cells": [
  {
   "cell_type": "markdown",
   "metadata": {},
   "source": [
    "This is some of the class notes and practice codes from the Machine Learning class I am taking"
   ]
  },
  {
   "cell_type": "code",
   "execution_count": 1,
   "metadata": {},
   "outputs": [
    {
     "data": {
      "text/html": [
       "<div>\n",
       "<style scoped>\n",
       "    .dataframe tbody tr th:only-of-type {\n",
       "        vertical-align: middle;\n",
       "    }\n",
       "\n",
       "    .dataframe tbody tr th {\n",
       "        vertical-align: top;\n",
       "    }\n",
       "\n",
       "    .dataframe thead th {\n",
       "        text-align: right;\n",
       "    }\n",
       "</style>\n",
       "<table border=\"1\" class=\"dataframe\">\n",
       "  <thead>\n",
       "    <tr style=\"text-align: right;\">\n",
       "      <th></th>\n",
       "      <th>outlook</th>\n",
       "      <th>temperature</th>\n",
       "      <th>humidity</th>\n",
       "      <th>windy</th>\n",
       "      <th>play</th>\n",
       "    </tr>\n",
       "  </thead>\n",
       "  <tbody>\n",
       "    <tr>\n",
       "      <th>0</th>\n",
       "      <td>sunny</td>\n",
       "      <td>85</td>\n",
       "      <td>85</td>\n",
       "      <td>False</td>\n",
       "      <td>no</td>\n",
       "    </tr>\n",
       "    <tr>\n",
       "      <th>1</th>\n",
       "      <td>sunny</td>\n",
       "      <td>80</td>\n",
       "      <td>90</td>\n",
       "      <td>True</td>\n",
       "      <td>no</td>\n",
       "    </tr>\n",
       "    <tr>\n",
       "      <th>2</th>\n",
       "      <td>overcast</td>\n",
       "      <td>83</td>\n",
       "      <td>86</td>\n",
       "      <td>False</td>\n",
       "      <td>yes</td>\n",
       "    </tr>\n",
       "    <tr>\n",
       "      <th>3</th>\n",
       "      <td>rainy</td>\n",
       "      <td>70</td>\n",
       "      <td>96</td>\n",
       "      <td>False</td>\n",
       "      <td>yes</td>\n",
       "    </tr>\n",
       "    <tr>\n",
       "      <th>4</th>\n",
       "      <td>rainy</td>\n",
       "      <td>68</td>\n",
       "      <td>80</td>\n",
       "      <td>False</td>\n",
       "      <td>yes</td>\n",
       "    </tr>\n",
       "  </tbody>\n",
       "</table>\n",
       "</div>"
      ],
      "text/plain": [
       "    outlook  temperature  humidity  windy play\n",
       "0     sunny           85        85  False   no\n",
       "1     sunny           80        90   True   no\n",
       "2  overcast           83        86  False  yes\n",
       "3     rainy           70        96  False  yes\n",
       "4     rainy           68        80  False  yes"
      ]
     },
     "execution_count": 1,
     "metadata": {},
     "output_type": "execute_result"
    }
   ],
   "source": [
    "#Import Libraries \n",
    "\n",
    "import numpy as np\n",
    "import matplotlib.pyplot as plt\n",
    "import pandas as pd\n",
    "\n",
    "\n",
    "data = pd.read_csv('tennis.csv')\n",
    "data.head()"
   ]
  },
  {
   "cell_type": "markdown",
   "metadata": {},
   "source": [
    "Data Preprocessing "
   ]
  },
  {
   "cell_type": "markdown",
   "metadata": {},
   "source": [
    "Handling the categorical data:\n",
    "-even though I do not need to apply the label encoder to all of the data, it just saves time for me to apply it all and then get the column I need afterwards (which is the outlook column, after the label encoder, I will go ahead and apply one hot encoder)"
   ]
  },
  {
   "cell_type": "code",
   "execution_count": 8,
   "metadata": {},
   "outputs": [
    {
     "name": "stdout",
     "output_type": "stream",
     "text": [
      "    outlook\n",
      "0         2\n",
      "1         2\n",
      "2         0\n",
      "3         1\n",
      "4         1\n",
      "5         1\n",
      "6         0\n",
      "7         2\n",
      "8         2\n",
      "9         1\n",
      "10        2\n",
      "11        0\n",
      "12        0\n",
      "13        1\n"
     ]
    }
   ],
   "source": [
    "#encoder:  Categoric -> Numeric\n",
    "from sklearn.preprocessing import LabelEncoder\n",
    "data2 = data.apply(LabelEncoder().fit_transform)\n",
    "c = data2.iloc[:,:1]\n",
    "\n",
    "print(c)"
   ]
  },
  {
   "cell_type": "code",
   "execution_count": 9,
   "metadata": {},
   "outputs": [
    {
     "name": "stdout",
     "output_type": "stream",
     "text": [
      "[[0. 0. 1.]\n",
      " [0. 0. 1.]\n",
      " [1. 0. 0.]\n",
      " [0. 1. 0.]\n",
      " [0. 1. 0.]\n",
      " [0. 1. 0.]\n",
      " [1. 0. 0.]\n",
      " [0. 0. 1.]\n",
      " [0. 0. 1.]\n",
      " [0. 1. 0.]\n",
      " [0. 0. 1.]\n",
      " [1. 0. 0.]\n",
      " [1. 0. 0.]\n",
      " [0. 1. 0.]]\n"
     ]
    }
   ],
   "source": [
    "#One Hot encoder\n",
    "from sklearn.preprocessing import OneHotEncoder\n",
    "ohe = OneHotEncoder(categorical_features='all')\n",
    "c=ohe.fit_transform(c).toarray()\n",
    "print(c)"
   ]
  },
  {
   "cell_type": "code",
   "execution_count": 10,
   "metadata": {},
   "outputs": [
    {
     "name": "stdout",
     "output_type": "stream",
     "text": [
      "      o    r    s\n",
      "0   0.0  0.0  1.0\n",
      "1   0.0  0.0  1.0\n",
      "2   1.0  0.0  0.0\n",
      "3   0.0  1.0  0.0\n",
      "4   0.0  1.0  0.0\n",
      "5   0.0  1.0  0.0\n",
      "6   1.0  0.0  0.0\n",
      "7   0.0  0.0  1.0\n",
      "8   0.0  0.0  1.0\n",
      "9   0.0  1.0  0.0\n",
      "10  0.0  0.0  1.0\n",
      "11  1.0  0.0  0.0\n",
      "12  1.0  0.0  0.0\n",
      "13  0.0  1.0  0.0\n"
     ]
    }
   ],
   "source": [
    "weather = pd.DataFrame(data = c, index = range(14), columns=['o','r','s'])\n",
    "print(weather)"
   ]
  },
  {
   "cell_type": "code",
   "execution_count": 14,
   "metadata": {},
   "outputs": [
    {
     "name": "stdout",
     "output_type": "stream",
     "text": [
      "      o    r    s  temperature  humidity\n",
      "0   0.0  0.0  1.0           85        85\n",
      "1   0.0  0.0  1.0           80        90\n",
      "2   1.0  0.0  0.0           83        86\n",
      "3   0.0  1.0  0.0           70        96\n",
      "4   0.0  1.0  0.0           68        80\n",
      "5   0.0  1.0  0.0           65        70\n",
      "6   1.0  0.0  0.0           64        65\n",
      "7   0.0  0.0  1.0           72        95\n",
      "8   0.0  0.0  1.0           69        70\n",
      "9   0.0  1.0  0.0           75        80\n",
      "10  0.0  0.0  1.0           75        70\n",
      "11  1.0  0.0  0.0           72        90\n",
      "12  1.0  0.0  0.0           81        75\n",
      "13  0.0  1.0  0.0           71        91\n"
     ]
    }
   ],
   "source": [
    "final_data = pd.concat([weather,data.iloc[:,1:3]],axis = 1)\n",
    "print(final_data)"
   ]
  },
  {
   "cell_type": "code",
   "execution_count": 15,
   "metadata": {},
   "outputs": [
    {
     "name": "stdout",
     "output_type": "stream",
     "text": [
      "    windy  play    o    r    s  temperature  humidity\n",
      "0       0     0  0.0  0.0  1.0           85        85\n",
      "1       1     0  0.0  0.0  1.0           80        90\n",
      "2       0     1  1.0  0.0  0.0           83        86\n",
      "3       0     1  0.0  1.0  0.0           70        96\n",
      "4       0     1  0.0  1.0  0.0           68        80\n",
      "5       1     0  0.0  1.0  0.0           65        70\n",
      "6       1     1  1.0  0.0  0.0           64        65\n",
      "7       0     0  0.0  0.0  1.0           72        95\n",
      "8       0     1  0.0  0.0  1.0           69        70\n",
      "9       0     1  0.0  1.0  0.0           75        80\n",
      "10      1     1  0.0  0.0  1.0           75        70\n",
      "11      1     1  1.0  0.0  0.0           72        90\n",
      "12      0     1  1.0  0.0  0.0           81        75\n",
      "13      1     0  0.0  1.0  0.0           71        91\n"
     ]
    }
   ],
   "source": [
    "final_data = pd.concat([data2.iloc[:,-2:],final_data], axis = 1)\n",
    "print(final_data)"
   ]
  },
  {
   "cell_type": "code",
   "execution_count": 16,
   "metadata": {},
   "outputs": [
    {
     "name": "stderr",
     "output_type": "stream",
     "text": [
      "/anaconda3/lib/python3.6/site-packages/sklearn/cross_validation.py:41: DeprecationWarning: This module was deprecated in version 0.18 in favor of the model_selection module into which all the refactored classes and functions are moved. Also note that the interface of the new CV iterators are different from that of this module. This module will be removed in 0.20.\n",
      "  \"This module will be removed in 0.20.\", DeprecationWarning)\n"
     ]
    }
   ],
   "source": [
    "#Test train split \n",
    "from sklearn.cross_validation import train_test_split\n",
    "x_train, x_test,y_train,y_test = train_test_split(final_data.iloc[:,:-1],final_data.iloc[:,-1:],test_size=0.33, random_state=0)\n"
   ]
  },
  {
   "cell_type": "code",
   "execution_count": 17,
   "metadata": {},
   "outputs": [
    {
     "name": "stdout",
     "output_type": "stream",
     "text": [
      "[[84.45365573]\n",
      " [63.93839954]\n",
      " [85.76050662]\n",
      " [64.21013241]\n",
      " [75.06793322]]\n"
     ]
    }
   ],
   "source": [
    "from sklearn.linear_model import LinearRegression\n",
    "regressor = LinearRegression()\n",
    "regressor.fit(x_train,y_train)\n",
    "\n",
    "\n",
    "y_pred = regressor.predict(x_test)\n",
    "\n",
    "print(y_pred)\n"
   ]
  },
  {
   "cell_type": "code",
   "execution_count": 18,
   "metadata": {},
   "outputs": [
    {
     "name": "stdout",
     "output_type": "stream",
     "text": [
      "                            OLS Regression Results                            \n",
      "==============================================================================\n",
      "Dep. Variable:               humidity   R-squared:                       0.294\n",
      "Model:                            OLS   Adj. R-squared:                 -0.148\n",
      "Method:                 Least Squares   F-statistic:                    0.6653\n",
      "Date:                Sat, 02 Feb 2019   Prob (F-statistic):              0.661\n",
      "Time:                        22:26:10   Log-Likelihood:                -49.542\n",
      "No. Observations:                  14   AIC:                             111.1\n",
      "Df Residuals:                       8   BIC:                             114.9\n",
      "Df Model:                           5                                         \n",
      "Covariance Type:            nonrobust                                         \n",
      "==============================================================================\n",
      "                 coef    std err          t      P>|t|      [0.025      0.975]\n",
      "------------------------------------------------------------------------------\n",
      "x1            -4.0286      7.229     -0.557      0.593     -20.698      12.641\n",
      "x2            -8.2778      8.029     -1.031      0.333     -26.793      10.237\n",
      "x3            52.3891     50.214      1.043      0.327     -63.404     168.183\n",
      "x4            55.6337     45.233      1.230      0.254     -48.673     159.940\n",
      "x5            49.4291     48.337      1.023      0.336     -62.035     160.893\n",
      "x6             0.4920      0.597      0.825      0.433      -0.884       1.868\n",
      "==============================================================================\n",
      "Omnibus:                        0.935   Durbin-Watson:                   2.416\n",
      "Prob(Omnibus):                  0.627   Jarque-Bera (JB):                0.823\n",
      "Skew:                           0.389   Prob(JB):                        0.663\n",
      "Kurtosis:                       2.103   Cond. No.                     2.08e+03\n",
      "==============================================================================\n",
      "\n",
      "Warnings:\n",
      "[1] Standard Errors assume that the covariance matrix of the errors is correctly specified.\n",
      "[2] The condition number is large, 2.08e+03. This might indicate that there are\n",
      "strong multicollinearity or other numerical problems.\n"
     ]
    },
    {
     "name": "stderr",
     "output_type": "stream",
     "text": [
      "/anaconda3/lib/python3.6/site-packages/scipy/stats/stats.py:1394: UserWarning: kurtosistest only valid for n>=20 ... continuing anyway, n=14\n",
      "  \"anyway, n=%i\" % int(n))\n"
     ]
    }
   ],
   "source": [
    "import statsmodels.formula.api as sm \n",
    "X = np.append(arr = np.ones((14,1)).astype(int), values=final_data.iloc[:,:-1], axis=1 )\n",
    "X_l = final_data.iloc[:,[0,1,2,3,4,5]].values\n",
    "r_ols = sm.OLS(endog = final_data.iloc[:,-1:], exog =X_l)\n",
    "r = r_ols.fit()\n",
    "print(r.summary())"
   ]
  },
  {
   "cell_type": "code",
   "execution_count": 19,
   "metadata": {},
   "outputs": [],
   "source": [
    "final_data = final_data.iloc[:,1:]"
   ]
  },
  {
   "cell_type": "code",
   "execution_count": 20,
   "metadata": {},
   "outputs": [
    {
     "name": "stdout",
     "output_type": "stream",
     "text": [
      "                            OLS Regression Results                            \n",
      "==============================================================================\n",
      "Dep. Variable:               humidity   R-squared:                       0.266\n",
      "Model:                            OLS   Adj. R-squared:                 -0.060\n",
      "Method:                 Least Squares   F-statistic:                    0.8165\n",
      "Date:                Sat, 02 Feb 2019   Prob (F-statistic):              0.546\n",
      "Time:                        22:26:17   Log-Likelihood:                -49.809\n",
      "No. Observations:                  14   AIC:                             109.6\n",
      "Df Residuals:                       9   BIC:                             112.8\n",
      "Df Model:                           4                                         \n",
      "Covariance Type:            nonrobust                                         \n",
      "==============================================================================\n",
      "                 coef    std err          t      P>|t|      [0.025      0.975]\n",
      "------------------------------------------------------------------------------\n",
      "x1            -6.2865      6.909     -0.910      0.387     -21.916       9.343\n",
      "x2            36.6564     39.905      0.919      0.382     -53.615     126.927\n",
      "x3            41.9135     36.464      1.149      0.280     -40.573     124.400\n",
      "x4            35.1064     39.339      0.892      0.395     -53.884     124.097\n",
      "x5             0.6484      0.506      1.282      0.232      -0.496       1.793\n",
      "==============================================================================\n",
      "Omnibus:                        0.887   Durbin-Watson:                   2.360\n",
      "Prob(Omnibus):                  0.642   Jarque-Bera (JB):                0.810\n",
      "Skew:                           0.424   Prob(JB):                        0.667\n",
      "Kurtosis:                       2.181   Cond. No.                     1.73e+03\n",
      "==============================================================================\n",
      "\n",
      "Warnings:\n",
      "[1] Standard Errors assume that the covariance matrix of the errors is correctly specified.\n",
      "[2] The condition number is large, 1.73e+03. This might indicate that there are\n",
      "strong multicollinearity or other numerical problems.\n"
     ]
    },
    {
     "name": "stderr",
     "output_type": "stream",
     "text": [
      "/anaconda3/lib/python3.6/site-packages/scipy/stats/stats.py:1394: UserWarning: kurtosistest only valid for n>=20 ... continuing anyway, n=14\n",
      "  \"anyway, n=%i\" % int(n))\n"
     ]
    }
   ],
   "source": [
    "import statsmodels.formula.api as sm \n",
    "X = np.append(arr = np.ones((14,1)).astype(int), values=final_data.iloc[:,:-1], axis=1 )\n",
    "X_l = final_data.iloc[:,[0,1,2,3,4]].values\n",
    "r_ols = sm.OLS(endog = final_data.iloc[:,-1:], exog =X_l)\n",
    "r = r_ols.fit()\n",
    "print(r.summary())"
   ]
  },
  {
   "cell_type": "code",
   "execution_count": 21,
   "metadata": {},
   "outputs": [],
   "source": [
    "x_train = x_train.iloc[:,1:]\n",
    "x_test = x_test.iloc[:,1:]\n",
    "\n",
    "regressor.fit(x_train,y_train)\n",
    "\n",
    "\n",
    "y_pred = regressor.predict(x_test)"
   ]
  },
  {
   "cell_type": "code",
   "execution_count": null,
   "metadata": {},
   "outputs": [],
   "source": []
  }
 ],
 "metadata": {
  "kernelspec": {
   "display_name": "Python 3",
   "language": "python",
   "name": "python3"
  },
  "language_info": {
   "codemirror_mode": {
    "name": "ipython",
    "version": 3
   },
   "file_extension": ".py",
   "mimetype": "text/x-python",
   "name": "python",
   "nbconvert_exporter": "python",
   "pygments_lexer": "ipython3",
   "version": "3.6.5"
  }
 },
 "nbformat": 4,
 "nbformat_minor": 2
}
